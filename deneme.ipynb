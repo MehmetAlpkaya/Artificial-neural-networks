{
 "cells": [
  {
   "cell_type": "code",
   "execution_count": 107,
   "id": "1c8fa98c",
   "metadata": {},
   "outputs": [],
   "source": [
    "import pandas \n",
    "import numpy as np\n",
    "import matplotlib.pyplot as plt"
   ]
  },
  {
   "cell_type": "code",
   "execution_count": 108,
   "id": "d11ea128",
   "metadata": {},
   "outputs": [],
   "source": [
    "df =pandas.read_csv(\"data_456.csv\")"
   ]
  },
  {
   "cell_type": "code",
   "execution_count": 109,
   "id": "6582bbc2",
   "metadata": {},
   "outputs": [
    {
     "data": {
      "text/html": [
       "<div>\n",
       "<style scoped>\n",
       "    .dataframe tbody tr th:only-of-type {\n",
       "        vertical-align: middle;\n",
       "    }\n",
       "\n",
       "    .dataframe tbody tr th {\n",
       "        vertical-align: top;\n",
       "    }\n",
       "\n",
       "    .dataframe thead th {\n",
       "        text-align: right;\n",
       "    }\n",
       "</style>\n",
       "<table border=\"1\" class=\"dataframe\">\n",
       "  <thead>\n",
       "    <tr style=\"text-align: right;\">\n",
       "      <th></th>\n",
       "      <th>Unnamed: 0</th>\n",
       "      <th>ozellik-1</th>\n",
       "      <th>ozellik-2</th>\n",
       "      <th>ozellik-3</th>\n",
       "      <th>ozellik-4</th>\n",
       "      <th>ozellik-5</th>\n",
       "      <th>cikis</th>\n",
       "    </tr>\n",
       "  </thead>\n",
       "  <tbody>\n",
       "    <tr>\n",
       "      <th>0</th>\n",
       "      <td>0</td>\n",
       "      <td>-8.129682</td>\n",
       "      <td>-6.193360</td>\n",
       "      <td>5.296303</td>\n",
       "      <td>8.955262</td>\n",
       "      <td>-3.266606</td>\n",
       "      <td>1</td>\n",
       "    </tr>\n",
       "    <tr>\n",
       "      <th>1</th>\n",
       "      <td>1</td>\n",
       "      <td>9.705815</td>\n",
       "      <td>-5.275625</td>\n",
       "      <td>6.012196</td>\n",
       "      <td>-5.893469</td>\n",
       "      <td>-6.676234</td>\n",
       "      <td>0</td>\n",
       "    </tr>\n",
       "    <tr>\n",
       "      <th>2</th>\n",
       "      <td>2</td>\n",
       "      <td>-7.944387</td>\n",
       "      <td>-6.130736</td>\n",
       "      <td>4.100220</td>\n",
       "      <td>9.626914</td>\n",
       "      <td>-4.119302</td>\n",
       "      <td>1</td>\n",
       "    </tr>\n",
       "    <tr>\n",
       "      <th>3</th>\n",
       "      <td>3</td>\n",
       "      <td>9.604341</td>\n",
       "      <td>-5.886795</td>\n",
       "      <td>7.894498</td>\n",
       "      <td>-6.535568</td>\n",
       "      <td>-6.916881</td>\n",
       "      <td>0</td>\n",
       "    </tr>\n",
       "    <tr>\n",
       "      <th>4</th>\n",
       "      <td>4</td>\n",
       "      <td>10.157236</td>\n",
       "      <td>-5.550074</td>\n",
       "      <td>7.488372</td>\n",
       "      <td>-5.385435</td>\n",
       "      <td>-6.902762</td>\n",
       "      <td>0</td>\n",
       "    </tr>\n",
       "    <tr>\n",
       "      <th>...</th>\n",
       "      <td>...</td>\n",
       "      <td>...</td>\n",
       "      <td>...</td>\n",
       "      <td>...</td>\n",
       "      <td>...</td>\n",
       "      <td>...</td>\n",
       "      <td>...</td>\n",
       "    </tr>\n",
       "    <tr>\n",
       "      <th>121</th>\n",
       "      <td>121</td>\n",
       "      <td>-7.976215</td>\n",
       "      <td>-5.958583</td>\n",
       "      <td>6.895382</td>\n",
       "      <td>7.063863</td>\n",
       "      <td>-4.327056</td>\n",
       "      <td>1</td>\n",
       "    </tr>\n",
       "    <tr>\n",
       "      <th>122</th>\n",
       "      <td>122</td>\n",
       "      <td>-9.561097</td>\n",
       "      <td>-4.908042</td>\n",
       "      <td>7.178753</td>\n",
       "      <td>9.886277</td>\n",
       "      <td>-4.856857</td>\n",
       "      <td>1</td>\n",
       "    </tr>\n",
       "    <tr>\n",
       "      <th>123</th>\n",
       "      <td>123</td>\n",
       "      <td>9.719168</td>\n",
       "      <td>-6.163861</td>\n",
       "      <td>6.408285</td>\n",
       "      <td>-6.020554</td>\n",
       "      <td>-8.105607</td>\n",
       "      <td>0</td>\n",
       "    </tr>\n",
       "    <tr>\n",
       "      <th>124</th>\n",
       "      <td>124</td>\n",
       "      <td>11.386864</td>\n",
       "      <td>-6.539713</td>\n",
       "      <td>6.391347</td>\n",
       "      <td>-7.599467</td>\n",
       "      <td>-7.733750</td>\n",
       "      <td>0</td>\n",
       "    </tr>\n",
       "    <tr>\n",
       "      <th>125</th>\n",
       "      <td>125</td>\n",
       "      <td>-8.734852</td>\n",
       "      <td>-6.269693</td>\n",
       "      <td>4.326175</td>\n",
       "      <td>9.361903</td>\n",
       "      <td>-3.428237</td>\n",
       "      <td>1</td>\n",
       "    </tr>\n",
       "  </tbody>\n",
       "</table>\n",
       "<p>126 rows × 7 columns</p>\n",
       "</div>"
      ],
      "text/plain": [
       "     Unnamed: 0  ozellik-1  ozellik-2  ozellik-3  ozellik-4  ozellik-5  cikis\n",
       "0             0  -8.129682  -6.193360   5.296303   8.955262  -3.266606      1\n",
       "1             1   9.705815  -5.275625   6.012196  -5.893469  -6.676234      0\n",
       "2             2  -7.944387  -6.130736   4.100220   9.626914  -4.119302      1\n",
       "3             3   9.604341  -5.886795   7.894498  -6.535568  -6.916881      0\n",
       "4             4  10.157236  -5.550074   7.488372  -5.385435  -6.902762      0\n",
       "..          ...        ...        ...        ...        ...        ...    ...\n",
       "121         121  -7.976215  -5.958583   6.895382   7.063863  -4.327056      1\n",
       "122         122  -9.561097  -4.908042   7.178753   9.886277  -4.856857      1\n",
       "123         123   9.719168  -6.163861   6.408285  -6.020554  -8.105607      0\n",
       "124         124  11.386864  -6.539713   6.391347  -7.599467  -7.733750      0\n",
       "125         125  -8.734852  -6.269693   4.326175   9.361903  -3.428237      1\n",
       "\n",
       "[126 rows x 7 columns]"
      ]
     },
     "execution_count": 109,
     "metadata": {},
     "output_type": "execute_result"
    }
   ],
   "source": [
    "df"
   ]
  },
  {
   "cell_type": "code",
   "execution_count": 110,
   "id": "00567695",
   "metadata": {},
   "outputs": [
    {
     "name": "stdout",
     "output_type": "stream",
     "text": [
      "(60,)\n"
     ]
    },
    {
     "data": {
      "text/plain": [
       "array([1, 0, 1, 0, 0, 0, 0, 1, 0, 1, 0, 0, 1, 0, 0, 0, 1, 0, 1, 1, 1, 1,\n",
       "       0, 1, 0, 0, 1, 1, 1, 1, 0, 1, 1, 1, 0, 1, 0, 0, 0, 0, 1, 0, 0, 1,\n",
       "       0, 0, 1, 1, 1, 1, 0, 0, 0, 0, 1, 1, 1, 0, 1, 0], dtype=int64)"
      ]
     },
     "execution_count": 110,
     "metadata": {},
     "output_type": "execute_result"
    }
   ],
   "source": [
    "cikis = df.iloc[0:60,6].values #çıkış değerlerini aldım\n",
    "print(cikis.shape)\n",
    "cikis"
   ]
  },
  {
   "cell_type": "code",
   "execution_count": 127,
   "id": "4f257a77",
   "metadata": {},
   "outputs": [
    {
     "data": {
      "text/plain": [
       "array([ 1, -1,  1, -1, -1, -1, -1,  1, -1,  1, -1, -1,  1, -1, -1, -1,  1,\n",
       "       -1,  1,  1,  1,  1, -1,  1, -1, -1,  1,  1,  1,  1, -1,  1,  1,  1,\n",
       "       -1,  1, -1, -1, -1, -1,  1, -1, -1,  1, -1, -1,  1,  1,  1,  1, -1,\n",
       "       -1, -1, -1,  1,  1,  1, -1,  1, -1])"
      ]
     },
     "execution_count": 127,
     "metadata": {},
     "output_type": "execute_result"
    }
   ],
   "source": [
    "#çıkış değerleri  0 ve 1\n",
    "cikis = np.where(df.cikis[:60]==0,-1,1) #0 olan çıkış değerlerimi -1 olarak aldım aralığı değiştirdim 1 ler aynı kalacak\n",
    "giris = df.iloc[0:60, [1, 2]].values#2 ve 3. stunun  ilk 60 değerini aldım\n",
    "cikis"
   ]
  },
  {
   "cell_type": "code",
   "execution_count": 128,
   "id": "573be4d7",
   "metadata": {},
   "outputs": [
    {
     "data": {
      "image/png": "[encoded data removed]",
      "text/plain": [
       "<Figure size 432x288 with 1 Axes>"
      ]
     },
     "metadata": {
      "needs_background": "light"
     },
     "output_type": "display_data"
    }
   ],
   "source": [
    "plt.title('2D görünüm', fontsize=16)\n",
    "\n",
    "plt.scatter(giris[:30, 0], giris[:30, 1], color='black', marker='o', label='0 değerleri')\n",
    "plt.scatter(giris[30:60, 0], giris[30:60, -1], color='green', marker='x', label='1 değerleri')\n",
    "plt.xlabel('x length')\n",
    "plt.ylabel('y length')\n",
    "plt.legend(loc='upper left')\n",
    "\n",
    "plt.show()"
   ]
  },
  {
   "cell_type": "code",
   "execution_count": 129,
   "id": "945afb3b",
   "metadata": {},
   "outputs": [],
   "source": [
    "class Perceptron(object): \n",
    "    def __init__(self, ogrenme_orani=0.1, iter_sayisi=10):\n",
    "        self.ogrenme_orani = ogrenme_orani\n",
    "        self.iter_sayisi = iter_sayisi\n",
    "\n",
    "    def ogren(self, X, y):\n",
    "        self.w = np.zeros(1 + X.shape[1])\n",
    "        #self.w = np.random.rand((1 + X.shape[1])) * 2\n",
    "        self.hatalar = []\n",
    "        for _ in range(self.iter_sayisi):\n",
    "            hata = 0\n",
    "            for xi, hedef in zip(X, y):\n",
    "                degisim = self.ogrenme_orani * (hedef - self.tahmin(xi))\n",
    "                self.w[1:] += degisim * xi\n",
    "                self.w[0] += degisim\n",
    "                hata += int(degisim != 0.0)\n",
    "            self.hatalar.append(hata)\n",
    "        return self\n",
    "\n",
    "    def net_input(self, X):\n",
    "        return np.dot(X, self.w[1:]) + self.w[0]\n",
    "\n",
    "    def tahmin(self, x):\n",
    "        return np.where(self.net_input(x) >= 0.0, 1, -1)"
   ]
  },
  {
   "cell_type": "code",
   "execution_count": 130,
   "id": "585b23e3",
   "metadata": {},
   "outputs": [],
   "source": [
    "siniflandirici = Perceptron(ogrenme_orani=0.1, iter_sayisi=10)"
   ]
  },
  {
   "cell_type": "code",
   "execution_count": 131,
   "id": "1b367b5b",
   "metadata": {},
   "outputs": [
    {
     "data": {
      "text/plain": [
       "<__main__.Perceptron at 0x202c585ce50>"
      ]
     },
     "execution_count": 131,
     "metadata": {},
     "output_type": "execute_result"
    }
   ],
   "source": [
    "siniflandirici.ogren(giris, cikis)"
   ]
  },
  {
   "cell_type": "code",
   "execution_count": 132,
   "id": "f44b538a",
   "metadata": {},
   "outputs": [
    {
     "data": {
      "text/plain": [
       "array([-0.2      , -1.9411631,  1.055125 ])"
      ]
     },
     "execution_count": 132,
     "metadata": {},
     "output_type": "execute_result"
    }
   ],
   "source": [
    "siniflandirici.w"
   ]
  },
  {
   "cell_type": "code",
   "execution_count": 133,
   "id": "ab7da862",
   "metadata": {},
   "outputs": [
    {
     "data": {
      "text/plain": [
       "[1, 0, 0, 0, 0, 0, 0, 0, 0, 0]"
      ]
     },
     "execution_count": 133,
     "metadata": {},
     "output_type": "execute_result"
    }
   ],
   "source": [
    "siniflandirici.hatalar # ilk 1 ve diğer değerden sonra 0 hata bulup öğreniyor"
   ]
  },
  {
   "cell_type": "code",
   "execution_count": 134,
   "id": "332b4467",
   "metadata": {},
   "outputs": [
    {
     "data": {
      "image/png": "[encoded data removed]",
      "text/plain": [
       "<Figure size 432x288 with 1 Axes>"
      ]
     },
     "metadata": {
      "needs_background": "light"
     },
     "output_type": "display_data"
    }
   ],
   "source": [
    "plt.plot(range(1, len(siniflandirici.hatalar) + 1), siniflandirici.hatalar)\n",
    "plt.xlabel('Deneme')\n",
    "plt.ylabel('Hatalı tahmin sayısı')\n",
    "plt.show()"
   ]
  },
  {
   "cell_type": "code",
   "execution_count": 142,
   "id": "29058f29",
   "metadata": {},
   "outputs": [
    {
     "name": "stdout",
     "output_type": "stream",
     "text": [
      "(60,)\n"
     ]
    },
    {
     "data": {
      "text/plain": [
       "array([1, 0, 1, 0, 0, 0, 0, 1, 0, 1, 0, 0, 1, 0, 0, 0, 1, 0, 1, 1, 1, 1,\n",
       "       0, 1, 0, 0, 1, 1, 1, 1, 0, 1, 1, 1, 0, 1, 0, 0, 0, 0, 1, 0, 0, 1,\n",
       "       0, 0, 1, 1, 1, 1, 0, 0, 0, 0, 1, 1, 1, 0, 1, 0], dtype=int64)"
      ]
     },
     "execution_count": 142,
     "metadata": {},
     "output_type": "execute_result"
    }
   ],
   "source": [
    "cikis = df.iloc[0:60,6].values #çıkış değerlerini aldım\n",
    "print(cikis.shape)\n",
    "cikis"
   ]
  },
  {
   "cell_type": "code",
   "execution_count": 143,
   "id": "bf42626a",
   "metadata": {},
   "outputs": [
    {
     "data": {
      "text/plain": [
       "array([ 1, -1,  1, -1, -1, -1, -1,  1, -1,  1, -1, -1,  1, -1, -1, -1,  1,\n",
       "       -1,  1,  1,  1,  1, -1,  1, -1, -1,  1,  1,  1,  1, -1,  1,  1,  1,\n",
       "       -1,  1, -1, -1, -1, -1,  1, -1, -1,  1, -1, -1,  1,  1,  1,  1, -1,\n",
       "       -1, -1, -1,  1,  1,  1, -1,  1, -1])"
      ]
     },
     "execution_count": 143,
     "metadata": {},
     "output_type": "execute_result"
    }
   ],
   "source": [
    "#çıkış değerleri  0 ve 1\n",
    "cikis = np.where(df.cikis[:60]==0,-1,1) #0 olan çıkış değerlerimi -1 olarak aldım aralığı değiştirdim 1 ler aynı kalacak\n",
    "giris = df.iloc[0:60, [3, 5]].values#4 ve 5. stunun  ilk 60 değerini aldım\n",
    "cikis"
   ]
  },
  {
   "cell_type": "code",
   "execution_count": 144,
   "id": "a950de21",
   "metadata": {},
   "outputs": [
    {
     "data": {
      "image/png": "[encoded data removed]",
      "text/plain": [
       "<Figure size 432x288 with 1 Axes>"
      ]
     },
     "metadata": {
      "needs_background": "light"
     },
     "output_type": "display_data"
    }
   ],
   "source": [
    "plt.title('2D görünüm', fontsize=16)\n",
    "\n",
    "plt.scatter(giris[:30, 0], giris[:30, 1], color='black', marker='o', label='0 değerleri')\n",
    "plt.scatter(giris[30:60, 0], giris[30:60, -1], color='green', marker='x', label='1 değerleri')\n",
    "plt.xlabel('x length')\n",
    "plt.ylabel('y length')\n",
    "plt.legend(loc='upper left')\n",
    "\n",
    "plt.show()"
   ]
  },
  {
   "cell_type": "code",
   "execution_count": 145,
   "id": "7618bfb8",
   "metadata": {},
   "outputs": [],
   "source": [
    "class Perceptron(object): \n",
    "    def __init__(self, ogrenme_orani=0.1, iter_sayisi=10):\n",
    "        self.ogrenme_orani = ogrenme_orani\n",
    "        self.iter_sayisi = iter_sayisi\n",
    "\n",
    "    def ogren(self, X, y):\n",
    "        self.w = np.zeros(1 + X.shape[1])\n",
    "        #self.w = np.random.rand((1 + X.shape[1])) * 2\n",
    "        self.hatalar = []\n",
    "        for _ in range(self.iter_sayisi):\n",
    "            hata = 0\n",
    "            for xi, hedef in zip(X, y):\n",
    "                degisim = self.ogrenme_orani * (hedef - self.tahmin(xi))\n",
    "                self.w[1:] += degisim * xi\n",
    "                self.w[0] += degisim\n",
    "                hata += int(degisim != 0.0)\n",
    "            self.hatalar.append(hata)\n",
    "        return self\n",
    "\n",
    "    def net_input(self, X):\n",
    "        return np.dot(X, self.w[1:]) + self.w[0]\n",
    "\n",
    "    def tahmin(self, x):\n",
    "        return np.where(self.net_input(x) >= 0.0, 1, -1)"
   ]
  },
  {
   "cell_type": "code",
   "execution_count": 220,
   "id": "5466c94e",
   "metadata": {},
   "outputs": [],
   "source": [
    "siniflandirici = Perceptron(ogrenme_orani=0.1, iter_sayisi=60)"
   ]
  },
  {
   "cell_type": "code",
   "execution_count": 221,
   "id": "7aab4ca2",
   "metadata": {},
   "outputs": [
    {
     "data": {
      "text/plain": [
       "<__main__.Perceptron at 0x202c5855d60>"
      ]
     },
     "execution_count": 221,
     "metadata": {},
     "output_type": "execute_result"
    }
   ],
   "source": [
    "siniflandirici.ogren(giris, cikis)"
   ]
  },
  {
   "cell_type": "code",
   "execution_count": null,
   "id": "a8806135",
   "metadata": {},
   "outputs": [],
   "source": []
  },
  {
   "cell_type": "code",
   "execution_count": 222,
   "id": "da9bb788",
   "metadata": {},
   "outputs": [
    {
     "data": {
      "text/plain": [
       "array([ 0.4       , -7.57048948,  8.56100231])"
      ]
     },
     "execution_count": 222,
     "metadata": {},
     "output_type": "execute_result"
    }
   ],
   "source": [
    "siniflandirici.w"
   ]
  },
  {
   "cell_type": "code",
   "execution_count": null,
   "id": "cb6036c8",
   "metadata": {},
   "outputs": [],
   "source": []
  },
  {
   "cell_type": "code",
   "execution_count": 223,
   "id": "e42062be",
   "metadata": {},
   "outputs": [
    {
     "data": {
      "text/plain": [
       "[15,\n",
       " 6,\n",
       " 7,\n",
       " 2,\n",
       " 4,\n",
       " 4,\n",
       " 4,\n",
       " 2,\n",
       " 4,\n",
       " 2,\n",
       " 2,\n",
       " 2,\n",
       " 2,\n",
       " 2,\n",
       " 2,\n",
       " 2,\n",
       " 2,\n",
       " 0,\n",
       " 0,\n",
       " 0,\n",
       " 0,\n",
       " 0,\n",
       " 0,\n",
       " 0,\n",
       " 0,\n",
       " 0,\n",
       " 0,\n",
       " 0,\n",
       " 0,\n",
       " 0,\n",
       " 0,\n",
       " 0,\n",
       " 0,\n",
       " 0,\n",
       " 0,\n",
       " 0,\n",
       " 0,\n",
       " 0,\n",
       " 0,\n",
       " 0,\n",
       " 0,\n",
       " 0,\n",
       " 0,\n",
       " 0,\n",
       " 0,\n",
       " 0,\n",
       " 0,\n",
       " 0,\n",
       " 0,\n",
       " 0,\n",
       " 0,\n",
       " 0,\n",
       " 0,\n",
       " 0,\n",
       " 0,\n",
       " 0,\n",
       " 0,\n",
       " 0,\n",
       " 0,\n",
       " 0]"
      ]
     },
     "execution_count": 223,
     "metadata": {},
     "output_type": "execute_result"
    }
   ],
   "source": [
    "siniflandirici.hatalar\n",
    "#17. öğrenmeden sonra 0 atalı öğrenmeyi buluyor"
   ]
  },
  {
   "cell_type": "code",
   "execution_count": 224,
   "id": "beea8ed3",
   "metadata": {},
   "outputs": [
    {
     "data": {
      "image/png": "[encoded data removed]",
      "text/plain": [
       "<Figure size 432x288 with 1 Axes>"
      ]
     },
     "metadata": {
      "needs_background": "light"
     },
     "output_type": "display_data"
    }
   ],
   "source": [
    "plt.plot(range(1, len(siniflandirici.hatalar) + 1), siniflandirici.hatalar)\n",
    "plt.xlabel('Deneme')\n",
    "plt.ylabel('Hatalı tahmin sayısı')\n",
    "plt.show()"
   ]
  },
  {
   "cell_type": "code",
   "execution_count": 206,
   "id": "0134a855",
   "metadata": {},
   "outputs": [
    {
     "name": "stdout",
     "output_type": "stream",
     "text": [
      "(60,)\n"
     ]
    },
    {
     "data": {
      "text/plain": [
       "array([1, 0, 1, 0, 0, 0, 0, 1, 0, 1, 0, 0, 1, 0, 0, 0, 1, 0, 1, 1, 1, 1,\n",
       "       0, 1, 0, 0, 1, 1, 1, 1, 0, 1, 1, 1, 0, 1, 0, 0, 0, 0, 1, 0, 0, 1,\n",
       "       0, 0, 1, 1, 1, 1, 0, 0, 0, 0, 1, 1, 1, 0, 1, 0], dtype=int64)"
      ]
     },
     "execution_count": 206,
     "metadata": {},
     "output_type": "execute_result"
    }
   ],
   "source": [
    "cikis = df.iloc[0:60,6].values #çıkış değerlerini aldım\n",
    "print(cikis.shape)\n",
    "cikis\n"
   ]
  },
  {
   "cell_type": "code",
   "execution_count": 207,
   "id": "6b409ab2",
   "metadata": {},
   "outputs": [
    {
     "data": {
      "text/plain": [
       "array([ 1, -1,  1, -1, -1, -1, -1,  1, -1,  1, -1, -1,  1, -1, -1, -1,  1,\n",
       "       -1,  1,  1,  1,  1, -1,  1, -1, -1,  1,  1,  1,  1, -1,  1,  1,  1,\n",
       "       -1,  1, -1, -1, -1, -1,  1, -1, -1,  1, -1, -1,  1,  1,  1,  1, -1,\n",
       "       -1, -1, -1,  1,  1,  1, -1,  1, -1])"
      ]
     },
     "execution_count": 207,
     "metadata": {},
     "output_type": "execute_result"
    }
   ],
   "source": [
    "#çıkış değerleri  0 ve 1\n",
    "cikis = np.where(df.cikis[:60]==0,-1,1) #0 olan çıkış değerlerimi -1 olarak aldım aralığı değiştirdim 1 ler aynı kalacak\n",
    "giris = df.iloc[0:60, [2, 5]].values#3 ve 6. stunun  ilk 60 değerini aldım\n",
    "cikis"
   ]
  },
  {
   "cell_type": "code",
   "execution_count": 208,
   "id": "4cdaaa1a",
   "metadata": {},
   "outputs": [
    {
     "data": {
      "image/png": "[encoded data removed]",
      "text/plain": [
       "<Figure size 432x288 with 1 Axes>"
      ]
     },
     "metadata": {
      "needs_background": "light"
     },
     "output_type": "display_data"
    }
   ],
   "source": [
    "plt.title('2D görünüm', fontsize=16)\n",
    "\n",
    "plt.scatter(giris[:30, 0], giris[:30, 1], color='black', marker='o', label='0 değerleri')\n",
    "plt.scatter(giris[30:60, 0], giris[30:60, -1], color='green', marker='x', label='1 değerleri')\n",
    "plt.xlabel('x length')\n",
    "plt.ylabel('y length')\n",
    "plt.legend(loc='upper left')\n",
    "\n",
    "plt.show()"
   ]
  },
  {
   "cell_type": "code",
   "execution_count": 209,
   "id": "ab089a81",
   "metadata": {},
   "outputs": [],
   "source": [
    "class Perceptron(object): \n",
    "    def __init__(self, ogrenme_orani=0.1, iter_sayisi=10):\n",
    "        self.ogrenme_orani = ogrenme_orani\n",
    "        self.iter_sayisi = iter_sayisi\n",
    "\n",
    "    def ogren(self, X, y):\n",
    "        self.w = np.zeros(1 + X.shape[1])\n",
    "        #self.w = np.random.rand((1 + X.shape[1])) * 2\n",
    "        self.hatalar = []\n",
    "        for _ in range(self.iter_sayisi):\n",
    "            hata = 0\n",
    "            for xi, hedef in zip(X, y):\n",
    "                degisim = self.ogrenme_orani * (hedef - self.tahmin(xi))\n",
    "                self.w[1:] += degisim * xi\n",
    "                self.w[0] += degisim\n",
    "                hata += int(degisim != 0.0)\n",
    "            self.hatalar.append(hata)\n",
    "        return self\n",
    "\n",
    "    def net_input(self, X):\n",
    "        return np.dot(X, self.w[1:]) + self.w[0]\n",
    "\n",
    "    def tahmin(self, x):\n",
    "        return np.where(self.net_input(x) >= 0.0, 1, -1)"
   ]
  },
  {
   "cell_type": "code",
   "execution_count": 215,
   "id": "3f0a67b8",
   "metadata": {},
   "outputs": [],
   "source": [
    "siniflandirici = Perceptron(ogrenme_orani=0.1, iter_sayisi=60)"
   ]
  },
  {
   "cell_type": "code",
   "execution_count": 216,
   "id": "7e1e1494",
   "metadata": {},
   "outputs": [
    {
     "data": {
      "text/plain": [
       "<__main__.Perceptron at 0x202c598e970>"
      ]
     },
     "execution_count": 216,
     "metadata": {},
     "output_type": "execute_result"
    }
   ],
   "source": [
    "siniflandirici.ogren(giris, cikis)"
   ]
  },
  {
   "cell_type": "code",
   "execution_count": 217,
   "id": "cc88a7ef",
   "metadata": {},
   "outputs": [
    {
     "data": {
      "text/plain": [
       "array([ 0.4       , -7.57048948,  8.56100231])"
      ]
     },
     "execution_count": 217,
     "metadata": {},
     "output_type": "execute_result"
    }
   ],
   "source": [
    "siniflandirici.w"
   ]
  },
  {
   "cell_type": "code",
   "execution_count": 218,
   "id": "b036a57e",
   "metadata": {},
   "outputs": [
    {
     "data": {
      "text/plain": [
       "[15,\n",
       " 6,\n",
       " 7,\n",
       " 2,\n",
       " 4,\n",
       " 4,\n",
       " 4,\n",
       " 2,\n",
       " 4,\n",
       " 2,\n",
       " 2,\n",
       " 2,\n",
       " 2,\n",
       " 2,\n",
       " 2,\n",
       " 2,\n",
       " 2,\n",
       " 0,\n",
       " 0,\n",
       " 0,\n",
       " 0,\n",
       " 0,\n",
       " 0,\n",
       " 0,\n",
       " 0,\n",
       " 0,\n",
       " 0,\n",
       " 0,\n",
       " 0,\n",
       " 0,\n",
       " 0,\n",
       " 0,\n",
       " 0,\n",
       " 0,\n",
       " 0,\n",
       " 0,\n",
       " 0,\n",
       " 0,\n",
       " 0,\n",
       " 0,\n",
       " 0,\n",
       " 0,\n",
       " 0,\n",
       " 0,\n",
       " 0,\n",
       " 0,\n",
       " 0,\n",
       " 0,\n",
       " 0,\n",
       " 0,\n",
       " 0,\n",
       " 0,\n",
       " 0,\n",
       " 0,\n",
       " 0,\n",
       " 0,\n",
       " 0,\n",
       " 0,\n",
       " 0,\n",
       " 0]"
      ]
     },
     "execution_count": 218,
     "metadata": {},
     "output_type": "execute_result"
    }
   ],
   "source": [
    "siniflandirici.hatalar\n",
    "#en az hata 9 olarak bulunuyor ve öyle stabil devam ediyor öğreneemiyor"
   ]
  },
  {
   "cell_type": "code",
   "execution_count": 219,
   "id": "61e2545f",
   "metadata": {},
   "outputs": [
    {
     "data": {
      "image/png": "[encoded data removed]",
      "text/plain": [
       "<Figure size 432x288 with 1 Axes>"
      ]
     },
     "metadata": {
      "needs_background": "light"
     },
     "output_type": "display_data"
    }
   ],
   "source": [
    "plt.plot(range(1, len(siniflandirici.hatalar) + 1), siniflandirici.hatalar)\n",
    "plt.xlabel('Deneme')\n",
    "plt.ylabel('Hatalı tahmin sayısı')\n",
    "plt.show()\n",
    "#en az hata 2 ye kadar düşüyor iter sayısını artırdığımda daha sonra öğrendiğini farkettim\n"
   ]
  },
  {
   "cell_type": "code",
   "execution_count": null,
   "id": "07fcd6aa",
   "metadata": {},
   "outputs": [],
   "source": []
  },
  {
   "cell_type": "code",
   "execution_count": null,
   "id": "7a222174",
   "metadata": {},
   "outputs": [],
   "source": []
  }
 ],
 "metadata": {
  "kernelspec": {
   "display_name": "Python 3 (ipykernel)",
   "language": "python",
   "name": "python3"
  },
  "language_info": {
   "codemirror_mode": {
    "name": "ipython",
    "version": 3
   },
   "file_extension": ".py",
   "mimetype": "text/x-python",
   "name": "python",
   "nbconvert_exporter": "python",
   "pygments_lexer": "ipython3",
   "version": "3.9.7"
  }
 },
 "nbformat": 4,
 "nbformat_minor": 5
}
